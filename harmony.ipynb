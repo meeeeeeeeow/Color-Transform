{
 "cells": [
  {
   "cell_type": "code",
   "execution_count": 104,
   "metadata": {},
   "outputs": [],
   "source": [
    "import colorsys\n",
    "import numpy as np\n",
    "import matplotlib.pyplot as plt\n",
    "\n",
    "from matplotlib import cm\n",
    "from svgpathtools import svg2paths\n"
   ]
  },
  {
   "cell_type": "code",
   "execution_count": 31,
   "metadata": {},
   "outputs": [],
   "source": [
    "# read svg file\n",
    "paths, attributes = svg2paths('030-storm-14.svg')\n",
    "hue = []\n",
    "hs = []\n",
    "\n",
    "# extract colors and convert to hsv\n",
    "for ele in attributes:\n",
    "    if 'style' in ele:\n",
    "        hex = ele['style'].split('#')[1].replace(';', '')\n",
    "        rgb = tuple(int(hex[i:i+2], 16) for i in (0, 2, 4))  # hex to rgb\n",
    "        hsv = colorsys.rgb_to_hsv(rgb[0]/255.0, rgb[1]/255.0, rgb[2]/255.0)  # rgb to hsv\n",
    "        hue.append(int(hsv[0]*360))\n",
    "        hs.append([int(hsv[0]*360), hsv[1]])\n",
    "        \n",
    "# print(hue)\n",
    "# print(hs)"
   ]
  },
  {
   "cell_type": "code",
   "execution_count": 219,
   "metadata": {},
   "outputs": [
    {
     "data": {
      "text/plain": [
       "<Figure size 640x480 with 0 Axes>"
      ]
     },
     "metadata": {},
     "output_type": "display_data"
    }
   ],
   "source": [
    "# ------ plot color wheel ------\n",
    "def plot_wheel(t_type, fig=plt.figure(), sub=None, all=False):\n",
    "    # generate random data\n",
    "    theta = np.linspace(0, 2*np.pi, 360)\n",
    "    r = np.random.uniform(0.8, 1, 360)\n",
    "\n",
    "    T, R = np.meshgrid(theta, r)  # create a meshgrid for pcolormesh\n",
    "    C = T / (2*np.pi)  # create the color values for each meshgrid point\n",
    "\n",
    "    # plot the polar plot\n",
    "    if not all:\n",
    "        ax = fig.add_subplot(111, projection='polar')\n",
    "    else:\n",
    "        ax = fig.add_subplot(sub, projection='polar')\n",
    "    ax.set_axis_off()\n",
    "\n",
    "    # hue wheel\n",
    "    ax.pcolormesh(T, R, C, cmap=cm.hsv)\n",
    "\n",
    "    # gray region\n",
    "    if t_type == \"i\":\n",
    "        a0, a1, b0, b1 = 81 * np.pi / 180, 99 * np.pi / 180, 0, 0\n",
    "    elif t_type == \"V\":\n",
    "        a0, a1, b0, b1 = 43.2 * np.pi / 180, 136.8 * np.pi / 180, 0, 0\n",
    "    elif t_type == \"L\":\n",
    "        a0, a1 = 81 * np.pi / 180, 99 * np.pi / 180\n",
    "        b0, b1 = 39.6 * np.pi / 180, -39.6 * np.pi / 180\n",
    "    elif t_type == \"I\":\n",
    "        a0, a1 = 81 * np.pi / 180, 99 * np.pi / 180\n",
    "        b0, b1 = 261 * np.pi / 180, 279 * np.pi / 180\n",
    "    elif t_type == \"T\":\n",
    "        a0, a1, b0, b1 = np.pi/2, -np.pi/2, 0, 0\n",
    "    elif t_type == \"Y\":\n",
    "        a0, a1 = 43.2 * np.pi / 180, 136.8 * np.pi / 180\n",
    "        b0, b1 = 261 * np.pi / 180, 279 * np.pi / 180\n",
    "    elif t_type == \"X\":\n",
    "        a0, a1 = 43.2 * np.pi / 180, 136.8 * np.pi / 180\n",
    "        b0, b1 = 223.2 * np.pi / 180, 316.8 * np.pi / 180\n",
    "    elif t_type == \"N\":\n",
    "        a0, a1, b0, b1 = 0, 0, 0, 0\n",
    "    theta = np.linspace(a0, a1, 100)\n",
    "    ax.fill_between(theta, 0.8, color='#bdbdbd', edgecolor='none')\n",
    "    theta = np.linspace(b0, b1, 100)\n",
    "    ax.fill_between(theta, 0.8, color='#bdbdbd', edgecolor='none')\n",
    "\n",
    "    # center\n",
    "    ax.scatter(0, 0, color='black', marker='o', s=50)\n",
    "    plt.title(t_type)\n",
    "    if not all: plt.show()\n",
    "\n",
    "# fig = plt.figure(figsize=(10, 6))\n",
    "# plot_wheel(\"i\", fig, 241, True)\n",
    "# plot_wheel(\"V\", fig, 242, True)\n",
    "# plot_wheel(\"L\", fig, 243, True)\n",
    "# plot_wheel(\"I\", fig, 244, True)\n",
    "# plot_wheel(\"T\", fig, 245, True)\n",
    "# plot_wheel(\"Y\", fig, 246, True)\n",
    "# plot_wheel(\"X\", fig, 247, True)\n",
    "# plot_wheel(\"N\", fig, 248, True)\n",
    "# plt.show()"
   ]
  },
  {
   "cell_type": "code",
   "execution_count": null,
   "metadata": {},
   "outputs": [],
   "source": []
  }
 ],
 "metadata": {
  "kernelspec": {
   "display_name": ".venv",
   "language": "python",
   "name": "python3"
  },
  "language_info": {
   "codemirror_mode": {
    "name": "ipython",
    "version": 3
   },
   "file_extension": ".py",
   "mimetype": "text/x-python",
   "name": "python",
   "nbconvert_exporter": "python",
   "pygments_lexer": "ipython3",
   "version": "3.10.10"
  },
  "orig_nbformat": 4
 },
 "nbformat": 4,
 "nbformat_minor": 2
}
