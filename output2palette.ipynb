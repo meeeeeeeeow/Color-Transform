{
 "cells": [
  {
   "cell_type": "code",
   "execution_count": 112,
   "metadata": {},
   "outputs": [],
   "source": [
    "import numpy as np\n",
    "import pandas as pd\n",
    "import matplotlib.pyplot as plt\n",
    "import skimage\n",
    "\n",
    "from matplotlib.colors import ListedColormap\n",
    "from scipy.optimize import minimize, Bounds"
   ]
  },
  {
   "cell_type": "code",
   "execution_count": 4,
   "metadata": {},
   "outputs": [],
   "source": [
    "# ------ import color palettes ------\n",
    "df = pd.read_excel('./palette.xlsx', sheet_name='final')\n",
    "palettes = {}\n",
    "for row in df.values:\n",
    "    palettes[row[0]] = [row[2:5].tolist(), row[6:9].tolist(), row[10:13].tolist(), row[14:17].tolist(), row[18:].tolist()]"
   ]
  },
  {
   "cell_type": "code",
   "execution_count": null,
   "metadata": {},
   "outputs": [],
   "source": [
    "# # ------ plot palettes ------\n",
    "# fig = plt.figure(figsize=(5, 20))\n",
    "# for i, (k, v) in enumerate(palettes.items()):\n",
    "#     ax = fig.add_subplot(25, 2, i+1)\n",
    "#     data = np.array([[0, 1, 2, 3, 4]])\n",
    "#     ori_pa = (np.array(v)/255.).tolist()\n",
    "#     cmap = ListedColormap(ori_pa)\n",
    "#     ax.imshow(data, cmap=cmap)\n",
    "#     ax.set_axis_off()\n",
    "#     plt.title(k)\n",
    "# plt.show()"
   ]
  },
  {
   "cell_type": "code",
   "execution_count": 18,
   "metadata": {},
   "outputs": [
    {
     "name": "stdout",
     "output_type": "stream",
     "text": [
      "[[204, 137, 153], [206, 230, 232], [120, 102, 153], [203, 133, 204], [142, 153, 255]]\n"
     ]
    }
   ],
   "source": [
    "print(palettes['mood of Nov 4'])"
   ]
  },
  {
   "cell_type": "code",
   "execution_count": 103,
   "metadata": {},
   "outputs": [
    {
     "name": "stdout",
     "output_type": "stream",
     "text": [
      "Optimized L values: [204. 204. 120. 120. 203.]\n",
      "Optimized a values: [137. 137. 102. 102. 133.]\n",
      "Optimized b values: [153. 153. 153. 153. 204.]\n"
     ]
    },
    {
     "name": "stderr",
     "output_type": "stream",
     "text": [
      "C:\\Users\\ivy87\\AppData\\Local\\Temp\\ipykernel_16708\\2598384070.py:19: RuntimeWarning: invalid value encountered in scalar divide\n",
      "  total_distance += distance + w * np.abs(L_values[i] - L_values[j]) / euclidean_distance(np.array([L_values[i]]), np.array([L_values[j]]))\n"
     ]
    }
   ],
   "source": [
    "rgb = [[204, 137, 153], [204, 137, 153], [120, 102, 153], [120, 102, 153], [203, 133, 204]]  # 1, 1, 3, 3, 4\n",
    "\n",
    "\n",
    "def euclidean_distance(x1, x2):\n",
    "    return np.sqrt(np.sum((x1 - x2)**2))\n",
    "\n",
    "def objective_function(params, inputs, w):\n",
    "    L_values = params[::3]\n",
    "    a_values = params[1::3]\n",
    "    b_values = params[2::3]\n",
    "    total_distance = 0\n",
    "    for i, input_1 in enumerate(inputs):\n",
    "        for j, input_2 in enumerate(inputs):\n",
    "            if i != j:\n",
    "                # 計算兩個 input 的歐式距離\n",
    "                distance = euclidean_distance(np.array([L_values[i], a_values[i], b_values[i]]),\n",
    "                                             np.array([L_values[j], a_values[j], b_values[j]]))\n",
    "                # 根據距離調整 L 值\n",
    "                total_distance += distance + w * np.abs(L_values[i] - L_values[j]) / euclidean_distance(np.array([L_values[i]]), np.array([L_values[j]]))\n",
    "    return total_distance\n",
    "\n",
    "# 設定 input 的 L, a, b 值\n",
    "inputs = np.array(rgb)\n",
    "initial_params = inputs.flatten()\n",
    "\n",
    "# 設定調整項的權重\n",
    "w = 0.1\n",
    "\n",
    "# 最佳化求解\n",
    "result = minimize(objective_function, initial_params, args=(inputs, w))\n",
    "optimized_params = result.x\n",
    "\n",
    "# 取得最佳化後的 L, a, b 值\n",
    "optimized_L_values = optimized_params[::3]\n",
    "optimized_a_values = optimized_params[1::3]\n",
    "optimized_b_values = optimized_params[2::3]\n",
    "\n",
    "# 印出最佳化後的結果\n",
    "print(\"Optimized L values:\", optimized_L_values)\n",
    "print(\"Optimized a values:\", optimized_a_values)\n",
    "print(\"Optimized b values:\", optimized_b_values)\n",
    "\n",
    "\n",
    "# fig = plt.figure()\n",
    "# ax = fig.add_subplot(111)\n",
    "# data = np.array([[0, 1, 2, 3, 4]])\n",
    "# ori_pa = (np.array(rgb) / 255.).tolist()\n",
    "# cmap = ListedColormap(ori_pa)\n",
    "# ax.imshow(data, cmap=cmap)\n",
    "# ax.set_axis_off()\n",
    "# plt.show()"
   ]
  },
  {
   "cell_type": "code",
   "execution_count": 109,
   "metadata": {},
   "outputs": [
    {
     "name": "stdout",
     "output_type": "stream",
     "text": [
      "最佳化後的 L 值： [49.88021251 40.00080689 89.99999965]\n",
      "最佳化後的 a 值： [50.05023046 40.00034676 89.99999992]\n",
      "最佳化後的 b 值： [50.10568883 80.0000672  89.99999963]\n"
     ]
    }
   ],
   "source": [
    "# 目標函式\n",
    "def objective(params, inputs):\n",
    "    L_values = params[::3]\n",
    "    a_values = params[1::3]\n",
    "    b_values = params[2::3]\n",
    "    num_inputs = inputs.shape[1]\n",
    "    total_distance = 0\n",
    "    for i in range(num_inputs):\n",
    "        L_diff = L_values[i] - inputs[0, i]\n",
    "        a_diff = a_values[i] - inputs[1, i]\n",
    "        b_diff = b_values[i] - inputs[2, i]\n",
    "        distance = np.sqrt(L_diff ** 2 + a_diff ** 2 + b_diff ** 2)\n",
    "        total_distance += distance\n",
    "\n",
    "        # 調整亮度\n",
    "        L_diff = L_values[i] - initial_params[3 * i]\n",
    "        # total_distance += np.abs(L_diff) * distance * 0.01  # 調整亮度的係數為0.01\n",
    "        total_distance += np.abs(L_diff) * distance / (distance + 1)\n",
    "\n",
    "    return total_distance\n",
    "\n",
    "# 初始值\n",
    "# initial_params = np.array([50, 50, 50, 60, 70, 80, 40, 30, 20])  # L1, a1, b1, L2, a2, b2, L3, a3, b3\n",
    "\n",
    "# 輸入值\n",
    "inputs = np.array([[50, 40, 90],\n",
    "                  [50, 40, 90],\n",
    "                  [50, 80, 90]])\n",
    "initial_params = inputs.flatten()\n",
    "\n",
    "# 最佳化\n",
    "result = minimize(objective, initial_params, args=(inputs,), method='SLSQP')\n",
    "optimized_params = result.x\n",
    "optimized_L_values = optimized_params[::3]\n",
    "optimized_a_values = optimized_params[1::3]\n",
    "optimized_b_values = optimized_params[2::3]\n",
    "\n",
    "print(\"最佳化後的 L 值：\", optimized_L_values)\n",
    "print(\"最佳化後的 a 值：\", optimized_a_values)\n",
    "print(\"最佳化後的 b 值：\", optimized_b_values)\n"
   ]
  },
  {
   "cell_type": "code",
   "execution_count": 110,
   "metadata": {},
   "outputs": [
    {
     "name": "stdout",
     "output_type": "stream",
     "text": [
      "[[0.8090433199862719, 0.2943169271778229, 0.12938624689710868], [0.6498348468429311, 0.23894064550049843, 0.0], [1.0, 0.5173121795307551, 0.18412792583493176]]\n"
     ]
    }
   ],
   "source": [
    "rgb = []\n",
    "for l, a, b in zip(optimized_L_values, optimized_a_values, optimized_b_values):\n",
    "    rgb.append(skimage.color.lab2rgb([l, a, b]).tolist())\n",
    "print(rgb)"
   ]
  },
  {
   "cell_type": "code",
   "execution_count": 111,
   "metadata": {},
   "outputs": [
    {
     "data": {
      "image/png": "[encoded data removed]",
      "text/plain": [
       "<Figure size 640x480 with 1 Axes>"
      ]
     },
     "metadata": {},
     "output_type": "display_data"
    }
   ],
   "source": [
    "fig = plt.figure()\n",
    "ax = fig.add_subplot(111)\n",
    "data = np.array([[0, 1, 2]])\n",
    "ori_pa = rgb\n",
    "cmap = ListedColormap(ori_pa)\n",
    "ax.imshow(data, cmap=cmap)\n",
    "ax.set_axis_off()\n",
    "plt.show()"
   ]
  },
  {
   "cell_type": "code",
   "execution_count": 137,
   "metadata": {},
   "outputs": [
    {
     "name": "stdout",
     "output_type": "stream",
     "text": [
      "最佳化後的 L 值： [50.00900107 39.99934896 90.00046593]\n",
      "最佳化後的 a 值： [49.98645394 40.00100875 89.99976015]\n",
      "最佳化後的 b 值： [50.00088296 79.99968726 90.00004809]\n"
     ]
    },
    {
     "name": "stderr",
     "output_type": "stream",
     "text": [
      "d:\\NTU\\Icon\\colorTransform\\.venv\\lib\\site-packages\\scipy\\optimize\\_optimize.py:353: RuntimeWarning: Values in x were outside bounds during a minimize step, clipping to bounds\n",
      "  warnings.warn(\"Values in x were outside bounds during a \"\n"
     ]
    }
   ],
   "source": [
    "# 目標函式\n",
    "def objective(params, inputs):\n",
    "    L_values = params[::3]\n",
    "    a_values = params[1::3]\n",
    "    b_values = params[2::3]\n",
    "    num_inputs = inputs.shape[1]\n",
    "    total_distance = 0\n",
    "    for i in range(num_inputs):\n",
    "        L_diff = L_values[i] - inputs[0, i]\n",
    "        a_diff = a_values[i] - inputs[1, i]\n",
    "        b_diff = b_values[i] - inputs[2, i]\n",
    "        distance = np.sqrt(L_diff ** 2 + a_diff ** 2 + b_diff ** 2)\n",
    "        total_distance += distance\n",
    "\n",
    "        # 調整亮度\n",
    "        L_diff = L_values[i] - initial_params[3 * i]\n",
    "        # total_distance += np.abs(L_diff) * distance * 0.01  # 調整亮度的係數為0.01\n",
    "        total_distance += np.abs(L_diff) * distance / (distance + 1)\n",
    "\n",
    "    return total_distance\n",
    "\n",
    "# 初始值\n",
    "# initial_params = np.array([50, 50, 50, 60, 70, 80, 40, 30, 20])  # L1, a1, b1, L2, a2, b2, L3, a3, b3\n",
    "\n",
    "# 輸入值\n",
    "inputs = np.array([[50, 40, 90],\n",
    "                  [50, 40, 90],\n",
    "                  [50, 80, 90]])\n",
    "initial_params = inputs.flatten()\n",
    "bounds = Bounds([0, 0, 0, -100, -100, -100, -100, -100, -100], [100, 100, 100, 100, 100, 100, 100, 100, 100])\n",
    "\n",
    "# 最佳化\n",
    "result = minimize(objective, initial_params, args=(inputs,), method='SLSQP', bounds=bounds)\n",
    "optimized_params = result.x\n",
    "optimized_L_values = optimized_params[::3]\n",
    "optimized_a_values = optimized_params[1::3]\n",
    "optimized_b_values = optimized_params[2::3]\n",
    "\n",
    "print(\"最佳化後的 L 值：\", optimized_L_values)\n",
    "print(\"最佳化後的 a 值：\", optimized_a_values)\n",
    "print(\"最佳化後的 b 值：\", optimized_b_values)\n"
   ]
  },
  {
   "cell_type": "code",
   "execution_count": null,
   "metadata": {},
   "outputs": [],
   "source": []
  }
 ],
 "metadata": {
  "kernelspec": {
   "display_name": ".venv",
   "language": "python",
   "name": "python3"
  },
  "language_info": {
   "codemirror_mode": {
    "name": "ipython",
    "version": 3
   },
   "file_extension": ".py",
   "mimetype": "text/x-python",
   "name": "python",
   "nbconvert_exporter": "python",
   "pygments_lexer": "ipython3",
   "version": "3.10.11"
  },
  "orig_nbformat": 4
 },
 "nbformat": 4,
 "nbformat_minor": 2
}
