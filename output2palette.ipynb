{
 "cells": [
  {
   "cell_type": "code",
   "execution_count": 1,
   "metadata": {},
   "outputs": [],
   "source": [
    "import numpy as np\n",
    "import pandas as pd\n",
    "import matplotlib.pyplot as plt\n",
    "import skimage\n",
    "\n",
    "from matplotlib.colors import ListedColormap\n",
    "from scipy.optimize import minimize, Bounds"
   ]
  },
  {
   "cell_type": "code",
   "execution_count": 2,
   "metadata": {},
   "outputs": [],
   "source": [
    "# ------ import color palettes ------\n",
    "df = pd.read_excel('./palette.xlsx', sheet_name='final')\n",
    "palettes = {}\n",
    "for row in df.values:\n",
    "    palettes[row[0]] = [row[2:5].tolist(), row[6:9].tolist(), row[10:13].tolist(), row[14:17].tolist(), row[18:].tolist()]"
   ]
  },
  {
   "cell_type": "code",
   "execution_count": 3,
   "metadata": {},
   "outputs": [],
   "source": [
    "# # ------ plot palettes ------\n",
    "# fig = plt.figure(figsize=(5, 20))\n",
    "# for i, (k, v) in enumerate(palettes.items()):\n",
    "#     ax = fig.add_subplot(25, 2, i+1)\n",
    "#     data = np.array([[0, 1, 2, 3, 4]])\n",
    "#     ori_pa = (np.array(v)/255.).tolist()\n",
    "#     cmap = ListedColormap(ori_pa)\n",
    "#     ax.imshow(data, cmap=cmap)\n",
    "#     ax.set_axis_off()\n",
    "#     plt.title(k)\n",
    "# plt.show()"
   ]
  },
  {
   "attachments": {},
   "cell_type": "markdown",
   "metadata": {},
   "source": [
    "> [method](https://msgsxj.cn/2019/02/20/SciPy%E4%B8%AD%E7%9A%84%E7%BB%8F%E5%85%B8%E4%BC%98%E5%8C%96%E7%AE%97%E6%B3%95/)\n",
    "\n",
    "'SLSQP' 是 Scipy 中的一種最佳化方法，它是 Sequential Least SQuares Quadratic Programming（序列最小平方二次規劃）的縮寫。它主要適用於存在限制條件（包括等式約束和不等式約束）的最佳化問題，並且可以處理包含不連續點的問題。這使得 'SLSQP' 在處理一些實際應用中的複雜最佳化問題時表現出色。\n",
    "\n",
    "在這個例子中，目標函式是計算總距離，並且存在一個調整亮度的係數，需要滿足相應的限制條件。因此，選擇 'SLSQP' 方法作為最佳化方法是合理的，因為它可以處理這些限制條件，並在適用的情況下找到全局最小值。然而，最佳化方法的選擇也取決於具體的問題需求和性能要求，不同的最佳化方法可能在不同情況下表現出更好的效果。在實際應用中，可以通過嘗試不同的最佳化方法並比較它們的結果，選擇最適合問題需求的方法。\n",
    "\n",
    "---\n",
    "\n",
    "為什麼選擇了 SLSQP 而不是 CG、BFGS、L-BFGS-B、TNC 等其他方法，實際上是基於以下原因：\n",
    "\n",
    "約束條件：SLSQP（Sequential Least Squares Quadratic Programming）是一種適用於帶有等式和不等式約束的最佳化問題的方法。在你的代碼中，你並未提供約束函式，但你的目標函式中存在一個亮度調整的約束條件，這導致了一個帶有等式約束的最佳化問題。因此，選擇 SLSQP 方法可以處理這種帶有約束條件的問題。\n",
    "\n",
    "效能：SLSQP 方法通常在處理帶有等式和不等式約束的最佳化問題時效能較好。而 CG、BFGS、L-BFGS-B、TNC 等方法則通常用於無約束最佳化問題，效能可能在處理帶有約束條件的問題時較低。\n",
    "\n",
    "總而言之，選擇最適合的最佳化方法取決於具體的問題設定和需求。如果你的問題具有等式或不等式約束，並且希望在處理這些約束時保持較高的效能，那麼 SLSQP 可能是一個合適的選擇。如果你的問題是無約束的最佳化問題，那麼 CG、BFGS、L-BFGS-B、TNC 等方法也可以是適合的選擇。"
   ]
  },
  {
   "cell_type": "code",
   "execution_count": 4,
   "metadata": {},
   "outputs": [
    {
     "name": "stdout",
     "output_type": "stream",
     "text": [
      "[[204, 137, 153], [206, 230, 232], [120, 102, 153], [203, 133, 204], [142, 153, 255]]\n"
     ]
    }
   ],
   "source": [
    "print(palettes['mood of Nov 4'])"
   ]
  },
  {
   "cell_type": "code",
   "execution_count": 5,
   "metadata": {},
   "outputs": [
    {
     "name": "stdout",
     "output_type": "stream",
     "text": [
      "最佳化後的 L 值： [50.0000005  39.99999841 90.00000087]\n",
      "最佳化後的 a 值： [49.99999853 39.99999919 90.00000043]\n",
      "最佳化後的 b 值： [50.00000245 80.00000316 90.00000018]\n"
     ]
    }
   ],
   "source": [
    "def euclidean_distance(x1, x2):\n",
    "    return np.sqrt(np.sum((x1 - x2)**2))\n",
    "\n",
    "# 目標函式\n",
    "def objective(params, inputs):\n",
    "    L_values = params[::3]\n",
    "    a_values = params[1::3]\n",
    "    b_values = params[2::3]\n",
    "    num_inputs = inputs.shape[1]\n",
    "    total_distance = 0\n",
    "    for i in range(num_inputs):\n",
    "        L_diff = L_values[i] - inputs[0, i]\n",
    "        a_diff = a_values[i] - inputs[1, i]\n",
    "        b_diff = b_values[i] - inputs[2, i]\n",
    "        distance = np.sqrt(L_diff ** 2 + a_diff ** 2 + b_diff ** 2)\n",
    "        total_distance += distance\n",
    "\n",
    "        # 調整亮度\n",
    "        L_diff = L_values[i] - initial_params[3 * i]\n",
    "        total_distance += np.abs(L_diff) * distance / (distance + 1) * 0.01\n",
    "        # total_distance += np.abs(L_diff) * (1 / (distance + 1))\n",
    "\n",
    "    return total_distance\n",
    "\n",
    "# 輸入值\n",
    "inputs = np.array([[50, 40, 90],\n",
    "                  [50, 40, 90],\n",
    "                  [50, 80, 90]])\n",
    "initial_params = inputs.flatten()\n",
    "bounds = Bounds([0, 0, 0, -100, -100, -100, -100, -100, -100], [100, 100, 100, 100, 100, 100, 100, 100, 100])\n",
    "\n",
    "# 最佳化\n",
    "result = minimize(objective, initial_params, args=(inputs,), method='SLSQP', bounds=bounds)\n",
    "optimized_params = result.x\n",
    "optimized_L_values = optimized_params[::3]\n",
    "optimized_a_values = optimized_params[1::3]\n",
    "optimized_b_values = optimized_params[2::3]\n",
    "\n",
    "print(\"最佳化後的 L 值：\", optimized_L_values)\n",
    "print(\"最佳化後的 a 值：\", optimized_a_values)\n",
    "print(\"最佳化後的 b 值：\", optimized_b_values)\n"
   ]
  },
  {
   "cell_type": "code",
   "execution_count": 6,
   "metadata": {},
   "outputs": [
    {
     "name": "stdout",
     "output_type": "stream",
     "text": [
      "[[0.8102357557989095, 0.29585756483995396, 0.13143053956644832], [0.6498236548500084, 0.23893414414741226, 0.0], [1.0, 0.5173121914206096, 0.18412793485943743]]\n"
     ]
    }
   ],
   "source": [
    "rgb = []\n",
    "for l, a, b in zip(optimized_L_values, optimized_a_values, optimized_b_values):\n",
    "    rgb.append(skimage.color.lab2rgb([l, a, b]).tolist())\n",
    "print(rgb)"
   ]
  },
  {
   "cell_type": "code",
   "execution_count": 7,
   "metadata": {},
   "outputs": [
    {
     "data": {
      "image/png": "[encoded data removed]",
      "text/plain": [
       "<Figure size 640x480 with 1 Axes>"
      ]
     },
     "metadata": {},
     "output_type": "display_data"
    }
   ],
   "source": [
    "fig = plt.figure()\n",
    "ax = fig.add_subplot(111)\n",
    "data = np.array([[0, 1, 2]])\n",
    "ori_pa = rgb\n",
    "cmap = ListedColormap(ori_pa)\n",
    "ax.imshow(data, cmap=cmap)\n",
    "ax.set_axis_off()\n",
    "plt.show()"
   ]
  },
  {
   "cell_type": "code",
   "execution_count": 8,
   "metadata": {},
   "outputs": [
    {
     "name": "stdout",
     "output_type": "stream",
     "text": [
      "[[0.7735773654669542, 0.3382564224369352, 0.0], [0.7735773654669542, 0.3382564224369352, 0.0], [0.959939734418419, 0.0, 0.0]]\n"
     ]
    }
   ],
   "source": [
    "inputs = np.array([[50, 40, 90],\n",
    "                  [50, 40, 90],\n",
    "                  [50, 80, 90]], dtype=np.float32)\n",
    "\n",
    "rgb = []\n",
    "for l, a, b in inputs:\n",
    "    rgb.append(skimage.color.lab2rgb([l, a, b]).tolist())\n",
    "print(rgb)"
   ]
  },
  {
   "cell_type": "code",
   "execution_count": 9,
   "metadata": {},
   "outputs": [
    {
     "data": {
      "image/png": "[encoded data removed]",
      "text/plain": [
       "<Figure size 640x480 with 1 Axes>"
      ]
     },
     "metadata": {},
     "output_type": "display_data"
    }
   ],
   "source": [
    "fig = plt.figure()\n",
    "ax = fig.add_subplot(111)\n",
    "data = np.array([[0, 1, 2]])\n",
    "ori_pa = rgb\n",
    "cmap = ListedColormap(ori_pa)\n",
    "ax.imshow(data, cmap=cmap)\n",
    "ax.set_axis_off()\n",
    "plt.show()"
   ]
  },
  {
   "cell_type": "code",
   "execution_count": null,
   "metadata": {},
   "outputs": [],
   "source": []
  }
 ],
 "metadata": {
  "kernelspec": {
   "display_name": ".venv",
   "language": "python",
   "name": "python3"
  },
  "language_info": {
   "codemirror_mode": {
    "name": "ipython",
    "version": 3
   },
   "file_extension": ".py",
   "mimetype": "text/x-python",
   "name": "python",
   "nbconvert_exporter": "python",
   "pygments_lexer": "ipython3",
   "version": "3.10.11"
  },
  "orig_nbformat": 4
 },
 "nbformat": 4,
 "nbformat_minor": 2
}
